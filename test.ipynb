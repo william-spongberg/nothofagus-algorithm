{
 "cells": [
  {
   "cell_type": "code",
   "execution_count": 6,
   "metadata": {},
   "outputs": [
    {
     "name": "stderr",
     "output_type": "stream",
     "text": [
      "100%|██████████| 20/20 [00:00<00:00, 6669.27it/s]"
     ]
    },
    {
     "name": "stdout",
     "output_type": "stream",
     "text": [
      "Recommendations for User 0: [3, 0]\n"
     ]
    },
    {
     "name": "stderr",
     "output_type": "stream",
     "text": [
      "\n"
     ]
    }
   ],
   "source": [
    "import numpy as np\n",
    "import pandas as pd\n",
    "import implicit\n",
    "from scipy.sparse import csr_matrix\n",
    "\n",
    "# Sample user-video interaction data\n",
    "data = pd.DataFrame({\n",
    "    'user_id': [0, 0, 1, 1, 2, 2, 3, 3],\n",
    "    'video_id': [0, 1, 0, 2, 1, 2, 0, 1],\n",
    "    'interaction': [5, 4, 4, 5, 3, 2, 4, 5]  # Engagement score (views, likes, etc.)\n",
    "})\n",
    "\n",
    "# Convert to sparse matrix format\n",
    "user_item_matrix = csr_matrix((data['interaction'], (data['user_id'], data['video_id'])))\n",
    "\n",
    "# Train an ALS model (Alternating Least Squares)\n",
    "# Implicit expects an item-user matrix, so we transpose the user-item matrix.\n",
    "model = implicit.als.AlternatingLeastSquares(factors=50, regularization=0.1, iterations=20)\n",
    "model.fit(user_item_matrix.T)\n",
    "\n",
    "# Get recommendations for a specific user (e.g., User 0)\n",
    "user_id = 0\n",
    "recommended = model.recommend(user_id, user_item_matrix[user_id])\n",
    "\n",
    "# Convert numpy types to native Python types to display actual video ids\n",
    "video_ids = [int(rec[0]) for rec in recommended]\n",
    "print(f\"Recommendations for User {user_id}: {video_ids}\")"
   ]
  }
 ],
 "metadata": {
  "kernelspec": {
   "display_name": "Python 3",
   "language": "python",
   "name": "python3"
  },
  "language_info": {
   "codemirror_mode": {
    "name": "ipython",
    "version": 3
   },
   "file_extension": ".py",
   "mimetype": "text/x-python",
   "name": "python",
   "nbconvert_exporter": "python",
   "pygments_lexer": "ipython3",
   "version": "3.12.7"
  }
 },
 "nbformat": 4,
 "nbformat_minor": 2
}
